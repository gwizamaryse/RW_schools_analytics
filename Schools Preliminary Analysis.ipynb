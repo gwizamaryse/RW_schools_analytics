{
 "cells": [
  {
   "cell_type": "markdown",
   "metadata": {},
   "source": [
    "# Schools Analytics\n",
    "\n",
    "This analysis is based on data collected from education statistics published by the ministry of education in Rwanda each year. <br> The data used today was taken from Rwanda Education Statistics, published yearly by MINEDUC. <br>\n",
    "This data was collected from 2016 and 2017 publications. \n",
    "Data wrangling for this dataset has been done as part of another project. which was undocumented. "
   ]
  },
  {
   "cell_type": "markdown",
   "metadata": {},
   "source": [
    "### Dataset description\n",
    "\n",
    "the dataset has the following features: \n",
    "* Level: describe the type of school. unique values are Nursery , Primary, secondary and TVET 1&2\n",
    "* district, its describe the number of schools, pupils, level for the given district\n",
    "* province: the province the district belongs to\n",
    "* schools_16 : describe the number of schools in a particular level in the given district in 2016\n",
    "* pupils_16: describe the number of pupils in a given level for a district in 2016\n",
    "* schools_17 : describe the number of schools in a particular level in the given district in 2017\n",
    "* pupils_17: describe the number of pupils in a given level for a district in 2017"
   ]
  },
  {
   "cell_type": "markdown",
   "metadata": {},
   "source": [
    "###  Analysis Questions\n",
    "\n",
    "1. Rank provinces by the numbers of schools in 2016, which provinces had the most schools in 2016? \n",
    "2. Was the tendency the same in 2017? which provinces had the most changes? either in number of schools or number of pupils? \n",
    "3. which district has the most nursery schools?\n",
    "4. which district has the most primary schools?\n",
    "5. which district has the most secondary schools?\n",
    "6. which district has the most  TVET schools? \n",
    "7. which district has the most students?  (selector for level and district)\n",
    "8. what is the distribution of Nursery schools on map? (drop down for levels)"
   ]
  },
  {
   "cell_type": "code",
   "execution_count": 19,
   "metadata": {},
   "outputs": [],
   "source": [
    "import pandas as pd\n",
    "import seaborn as sb"
   ]
  },
  {
   "cell_type": "code",
   "execution_count": 45,
   "metadata": {},
   "outputs": [
    {
     "data": {
      "text/html": [
       "<div>\n",
       "<style scoped>\n",
       "    .dataframe tbody tr th:only-of-type {\n",
       "        vertical-align: middle;\n",
       "    }\n",
       "\n",
       "    .dataframe tbody tr th {\n",
       "        vertical-align: top;\n",
       "    }\n",
       "\n",
       "    .dataframe thead th {\n",
       "        text-align: right;\n",
       "    }\n",
       "</style>\n",
       "<table border=\"1\" class=\"dataframe\">\n",
       "  <thead>\n",
       "    <tr style=\"text-align: right;\">\n",
       "      <th></th>\n",
       "      <th>N</th>\n",
       "      <th>level</th>\n",
       "      <th>district</th>\n",
       "      <th>province</th>\n",
       "      <th>schools_16</th>\n",
       "      <th>pupils_2016</th>\n",
       "      <th>schools_17</th>\n",
       "      <th>pupils_17</th>\n",
       "    </tr>\n",
       "  </thead>\n",
       "  <tbody>\n",
       "    <tr>\n",
       "      <th>115</th>\n",
       "      <td>116</td>\n",
       "      <td>TVET level 1&amp;2</td>\n",
       "      <td>Rulindo</td>\n",
       "      <td>north</td>\n",
       "      <td>5</td>\n",
       "      <td>30</td>\n",
       "      <td>6</td>\n",
       "      <td>57</td>\n",
       "    </tr>\n",
       "    <tr>\n",
       "      <th>116</th>\n",
       "      <td>117</td>\n",
       "      <td>TVET level 1&amp;2</td>\n",
       "      <td>Gasabo</td>\n",
       "      <td>kigali city</td>\n",
       "      <td>6</td>\n",
       "      <td>146</td>\n",
       "      <td>11</td>\n",
       "      <td>126</td>\n",
       "    </tr>\n",
       "    <tr>\n",
       "      <th>117</th>\n",
       "      <td>118</td>\n",
       "      <td>TVET level 1&amp;2</td>\n",
       "      <td>Kicukiro</td>\n",
       "      <td>kigali city</td>\n",
       "      <td>17</td>\n",
       "      <td>158</td>\n",
       "      <td>16</td>\n",
       "      <td>192</td>\n",
       "    </tr>\n",
       "    <tr>\n",
       "      <th>118</th>\n",
       "      <td>119</td>\n",
       "      <td>TVET level 1&amp;2</td>\n",
       "      <td>Nyarugenge</td>\n",
       "      <td>kigali city</td>\n",
       "      <td>4</td>\n",
       "      <td>41</td>\n",
       "      <td>7</td>\n",
       "      <td>90</td>\n",
       "    </tr>\n",
       "    <tr>\n",
       "      <th>119</th>\n",
       "      <td>Total</td>\n",
       "      <td>NaN</td>\n",
       "      <td>NaN</td>\n",
       "      <td>NaN</td>\n",
       "      <td>7292</td>\n",
       "      <td>3205557</td>\n",
       "      <td>7544</td>\n",
       "      <td>3202093</td>\n",
       "    </tr>\n",
       "  </tbody>\n",
       "</table>\n",
       "</div>"
      ],
      "text/plain": [
       "         N           level    district     province  schools_16  pupils_2016  \\\n",
       "115    116  TVET level 1&2     Rulindo        north           5           30   \n",
       "116    117  TVET level 1&2      Gasabo  kigali city           6          146   \n",
       "117    118  TVET level 1&2    Kicukiro  kigali city          17          158   \n",
       "118    119  TVET level 1&2  Nyarugenge  kigali city           4           41   \n",
       "119  Total             NaN         NaN          NaN        7292      3205557   \n",
       "\n",
       "     schools_17  pupils_17  \n",
       "115           6         57  \n",
       "116          11        126  \n",
       "117          16        192  \n",
       "118           7         90  \n",
       "119        7544    3202093  "
      ]
     },
     "execution_count": 45,
     "metadata": {},
     "output_type": "execute_result"
    }
   ],
   "source": [
    "df = pd.read_csv('schools1617.csv')\n",
    "df.tail()"
   ]
  },
  {
   "cell_type": "code",
   "execution_count": 46,
   "metadata": {},
   "outputs": [
    {
     "name": "stdout",
     "output_type": "stream",
     "text": [
      "<class 'pandas.core.frame.DataFrame'>\n",
      "RangeIndex: 120 entries, 0 to 119\n",
      "Data columns (total 8 columns):\n",
      "N              120 non-null object\n",
      "level          119 non-null object\n",
      "district       119 non-null object\n",
      "province       119 non-null object\n",
      "schools_16     120 non-null int64\n",
      "pupils_2016    120 non-null int64\n",
      "schools_17     120 non-null int64\n",
      "pupils_17      120 non-null int64\n",
      "dtypes: int64(4), object(4)\n",
      "memory usage: 7.6+ KB\n"
     ]
    }
   ],
   "source": [
    "df.info()"
   ]
  },
  {
   "cell_type": "code",
   "execution_count": 47,
   "metadata": {},
   "outputs": [
    {
     "data": {
      "text/plain": [
       "array(['Nursery', 'Primary', 'Secondary School', 'TVET level 1&2', nan],\n",
       "      dtype=object)"
      ]
     },
     "execution_count": 47,
     "metadata": {},
     "output_type": "execute_result"
    }
   ],
   "source": [
    "df.level.unique()"
   ]
  },
  {
   "cell_type": "code",
   "execution_count": 48,
   "metadata": {},
   "outputs": [
    {
     "data": {
      "text/html": [
       "<div>\n",
       "<style scoped>\n",
       "    .dataframe tbody tr th:only-of-type {\n",
       "        vertical-align: middle;\n",
       "    }\n",
       "\n",
       "    .dataframe tbody tr th {\n",
       "        vertical-align: top;\n",
       "    }\n",
       "\n",
       "    .dataframe thead th {\n",
       "        text-align: right;\n",
       "    }\n",
       "</style>\n",
       "<table border=\"1\" class=\"dataframe\">\n",
       "  <thead>\n",
       "    <tr style=\"text-align: right;\">\n",
       "      <th></th>\n",
       "      <th>N</th>\n",
       "      <th>level</th>\n",
       "      <th>district</th>\n",
       "      <th>province</th>\n",
       "      <th>schools_16</th>\n",
       "      <th>pupils_2016</th>\n",
       "      <th>schools_17</th>\n",
       "      <th>pupils_17</th>\n",
       "    </tr>\n",
       "  </thead>\n",
       "  <tbody>\n",
       "    <tr>\n",
       "      <th>0</th>\n",
       "      <td>1</td>\n",
       "      <td>Nursery</td>\n",
       "      <td>Gisagara</td>\n",
       "      <td>south</td>\n",
       "      <td>32</td>\n",
       "      <td>2358</td>\n",
       "      <td>41</td>\n",
       "      <td>3358</td>\n",
       "    </tr>\n",
       "    <tr>\n",
       "      <th>1</th>\n",
       "      <td>2</td>\n",
       "      <td>Nursery</td>\n",
       "      <td>Huye</td>\n",
       "      <td>south</td>\n",
       "      <td>101</td>\n",
       "      <td>6067</td>\n",
       "      <td>92</td>\n",
       "      <td>7333</td>\n",
       "    </tr>\n",
       "    <tr>\n",
       "      <th>2</th>\n",
       "      <td>3</td>\n",
       "      <td>Nursery</td>\n",
       "      <td>Kamonyi</td>\n",
       "      <td>south</td>\n",
       "      <td>75</td>\n",
       "      <td>5389</td>\n",
       "      <td>118</td>\n",
       "      <td>9487</td>\n",
       "    </tr>\n",
       "    <tr>\n",
       "      <th>3</th>\n",
       "      <td>4</td>\n",
       "      <td>Nursery</td>\n",
       "      <td>Muhanga</td>\n",
       "      <td>south</td>\n",
       "      <td>114</td>\n",
       "      <td>7009</td>\n",
       "      <td>139</td>\n",
       "      <td>9638</td>\n",
       "    </tr>\n",
       "    <tr>\n",
       "      <th>4</th>\n",
       "      <td>5</td>\n",
       "      <td>Nursery</td>\n",
       "      <td>Nyamagabe</td>\n",
       "      <td>south</td>\n",
       "      <td>78</td>\n",
       "      <td>5975</td>\n",
       "      <td>87</td>\n",
       "      <td>6607</td>\n",
       "    </tr>\n",
       "    <tr>\n",
       "      <th>5</th>\n",
       "      <td>6</td>\n",
       "      <td>Nursery</td>\n",
       "      <td>Nyanza</td>\n",
       "      <td>south</td>\n",
       "      <td>85</td>\n",
       "      <td>7533</td>\n",
       "      <td>86</td>\n",
       "      <td>7169</td>\n",
       "    </tr>\n",
       "    <tr>\n",
       "      <th>6</th>\n",
       "      <td>7</td>\n",
       "      <td>Nursery</td>\n",
       "      <td>Nyaruguru</td>\n",
       "      <td>south</td>\n",
       "      <td>46</td>\n",
       "      <td>2951</td>\n",
       "      <td>58</td>\n",
       "      <td>4002</td>\n",
       "    </tr>\n",
       "    <tr>\n",
       "      <th>7</th>\n",
       "      <td>8</td>\n",
       "      <td>Nursery</td>\n",
       "      <td>Ruhango</td>\n",
       "      <td>south</td>\n",
       "      <td>74</td>\n",
       "      <td>4253</td>\n",
       "      <td>76</td>\n",
       "      <td>4976</td>\n",
       "    </tr>\n",
       "  </tbody>\n",
       "</table>\n",
       "</div>"
      ],
      "text/plain": [
       "   N    level   district province  schools_16  pupils_2016  schools_17  \\\n",
       "0  1  Nursery   Gisagara    south          32         2358          41   \n",
       "1  2  Nursery       Huye    south         101         6067          92   \n",
       "2  3  Nursery    Kamonyi    south          75         5389         118   \n",
       "3  4  Nursery    Muhanga    south         114         7009         139   \n",
       "4  5  Nursery  Nyamagabe    south          78         5975          87   \n",
       "5  6  Nursery     Nyanza    south          85         7533          86   \n",
       "6  7  Nursery  Nyaruguru    south          46         2951          58   \n",
       "7  8  Nursery    Ruhango    south          74         4253          76   \n",
       "\n",
       "   pupils_17  \n",
       "0       3358  \n",
       "1       7333  \n",
       "2       9487  \n",
       "3       9638  \n",
       "4       6607  \n",
       "5       7169  \n",
       "6       4002  \n",
       "7       4976  "
      ]
     },
     "execution_count": 48,
     "metadata": {},
     "output_type": "execute_result"
    }
   ],
   "source": [
    "south_nursery_df = df.query('level==\"Nursery\" & province==\"south\"')\n",
    "south_nursery_df"
   ]
  },
  {
   "cell_type": "code",
   "execution_count": 49,
   "metadata": {},
   "outputs": [
    {
     "data": {
      "text/plain": [
       "(52570, 41535)"
      ]
     },
     "execution_count": 49,
     "metadata": {},
     "output_type": "execute_result"
    }
   ],
   "source": [
    "south_pupils_17 = south_nursery_df['pupils_17'].sum()\n",
    "south_pupils_16 = south_nursery_df['pupils_2016'].sum()\n",
    "south_pupils_17, south_pupils_16"
   ]
  },
  {
   "cell_type": "code",
   "execution_count": 44,
   "metadata": {},
   "outputs": [
    {
     "name": "stdout",
     "output_type": "stream",
     "text": [
      "<class 'pandas.core.frame.DataFrame'>\n",
      "RangeIndex: 120 entries, 0 to 119\n",
      "Data columns (total 8 columns):\n",
      "N              120 non-null object\n",
      "level          119 non-null object\n",
      "district       119 non-null object\n",
      "province       119 non-null object\n",
      "schools_16     120 non-null int64\n",
      "pupils_2016    120 non-null int64\n",
      "schools_17     120 non-null int64\n",
      "pupils_17      120 non-null int64\n",
      "dtypes: int64(4), object(4)\n",
      "memory usage: 7.6+ KB\n"
     ]
    }
   ],
   "source": [
    "df.info()"
   ]
  }
 ],
 "metadata": {
  "kernelspec": {
   "display_name": "Python 3",
   "language": "python",
   "name": "python3"
  },
  "language_info": {
   "codemirror_mode": {
    "name": "ipython",
    "version": 3
   },
   "file_extension": ".py",
   "mimetype": "text/x-python",
   "name": "python",
   "nbconvert_exporter": "python",
   "pygments_lexer": "ipython3",
   "version": "3.7.3"
  }
 },
 "nbformat": 4,
 "nbformat_minor": 2
}
