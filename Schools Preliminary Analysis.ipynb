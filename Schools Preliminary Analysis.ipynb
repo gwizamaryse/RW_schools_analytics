{
 "cells": [
  {
   "cell_type": "markdown",
   "metadata": {},
   "source": [
    "# Schools Analytics\n",
    "\n",
    "This analysis is based on data collected from education statistics published by the ministry of education in Rwanda each year. <br> The data used today was taken from Rwanda Education Statistics, published yearly by MINEDUC. <br>\n",
    "This data was collected from 2016 and 2017 publications. \n",
    "Data wrangling for this dataset has been done as part of another project. which was undocumented. "
   ]
  },
  {
   "cell_type": "markdown",
   "metadata": {},
   "source": [
    "### Dataset description\n",
    "\n",
    "the dataset has the following features: \n",
    "* Level: describe the type of school. unique values are Nursery , Primary, secondary and TVET 1&2\n",
    "* district, its describe the number of schools, pupils, level for the given district\n",
    "* province: the province the district belongs to\n",
    "* schools_16 : describe the number of schools in a particular level in the given district in 2016\n",
    "* pupils_16: describe the number of pupils in a given level for a district in 2016\n",
    "* schools_17 : describe the number of schools in a particular level in the given district in 2017\n",
    "* pupils_17: describe the number of pupils in a given level for a district in 2017"
   ]
  },
  {
   "cell_type": "markdown",
   "metadata": {},
   "source": [
    "###  Analysis Questions\n",
    "\n",
    "1. Rank provinces by the numbers of schools in 2016, which provinces had the most schools in 2016? \n",
    "2. Was the tendency the same in 2017? which provinces had the most changes? either in number of schools or number of pupils? \n",
    "3. which district has the most nursery schools?\n",
    "4. which district has the most primary schools?\n",
    "5. which district has the most secondary schools?\n",
    "6. which district has the most  TVET schools? \n",
    "7. which district has the most students?  (selector for level and district)\n",
    "8. what is the distribution of Nursery schools on map? (drop down for levels)"
   ]
  },
  {
   "cell_type": "markdown",
   "metadata": {},
   "source": [
    "### Imports"
   ]
  },
  {
   "cell_type": "code",
   "execution_count": 24,
   "metadata": {},
   "outputs": [],
   "source": [
    "import pandas as pd\n",
    "import seaborn as sb\n",
    "import dash\n",
    "import dash_html_components as html\n",
    "import dash_core_components as dcc\n",
    "from dash.dependencies import Input, Output\n",
    "import plotly.graph_objs as go"
   ]
  },
  {
   "cell_type": "markdown",
   "metadata": {},
   "source": [
    "### Importing Data "
   ]
  },
  {
   "cell_type": "code",
   "execution_count": 25,
   "metadata": {},
   "outputs": [
    {
     "data": {
      "text/html": [
       "<div>\n",
       "<style scoped>\n",
       "    .dataframe tbody tr th:only-of-type {\n",
       "        vertical-align: middle;\n",
       "    }\n",
       "\n",
       "    .dataframe tbody tr th {\n",
       "        vertical-align: top;\n",
       "    }\n",
       "\n",
       "    .dataframe thead th {\n",
       "        text-align: right;\n",
       "    }\n",
       "</style>\n",
       "<table border=\"1\" class=\"dataframe\">\n",
       "  <thead>\n",
       "    <tr style=\"text-align: right;\">\n",
       "      <th></th>\n",
       "      <th>N</th>\n",
       "      <th>level</th>\n",
       "      <th>district</th>\n",
       "      <th>province</th>\n",
       "      <th>schools_16</th>\n",
       "      <th>pupils_2016</th>\n",
       "      <th>schools_17</th>\n",
       "      <th>pupils_17</th>\n",
       "    </tr>\n",
       "  </thead>\n",
       "  <tbody>\n",
       "    <tr>\n",
       "      <th>109</th>\n",
       "      <td>110</td>\n",
       "      <td>TVET level 1&amp;2</td>\n",
       "      <td>Nyagatare</td>\n",
       "      <td>east</td>\n",
       "      <td>2</td>\n",
       "      <td>17</td>\n",
       "      <td>1</td>\n",
       "      <td>8</td>\n",
       "    </tr>\n",
       "    <tr>\n",
       "      <th>98</th>\n",
       "      <td>99</td>\n",
       "      <td>TVET level 1&amp;2</td>\n",
       "      <td>Ngororero</td>\n",
       "      <td>west</td>\n",
       "      <td>6</td>\n",
       "      <td>76</td>\n",
       "      <td>5</td>\n",
       "      <td>51</td>\n",
       "    </tr>\n",
       "    <tr>\n",
       "      <th>77</th>\n",
       "      <td>78</td>\n",
       "      <td>Secondary School</td>\n",
       "      <td>Kirehe</td>\n",
       "      <td>east</td>\n",
       "      <td>52</td>\n",
       "      <td>15094</td>\n",
       "      <td>51</td>\n",
       "      <td>17134</td>\n",
       "    </tr>\n",
       "    <tr>\n",
       "      <th>24</th>\n",
       "      <td>25</td>\n",
       "      <td>Nursery</td>\n",
       "      <td>Gicumbi</td>\n",
       "      <td>north</td>\n",
       "      <td>154</td>\n",
       "      <td>7626</td>\n",
       "      <td>146</td>\n",
       "      <td>8472</td>\n",
       "    </tr>\n",
       "    <tr>\n",
       "      <th>30</th>\n",
       "      <td>31</td>\n",
       "      <td>Primary</td>\n",
       "      <td>Huye</td>\n",
       "      <td>south</td>\n",
       "      <td>99</td>\n",
       "      <td>69019</td>\n",
       "      <td>98</td>\n",
       "      <td>67906</td>\n",
       "    </tr>\n",
       "    <tr>\n",
       "      <th>112</th>\n",
       "      <td>113</td>\n",
       "      <td>TVET level 1&amp;2</td>\n",
       "      <td>Gakenke</td>\n",
       "      <td>north</td>\n",
       "      <td>4</td>\n",
       "      <td>41</td>\n",
       "      <td>5</td>\n",
       "      <td>28</td>\n",
       "    </tr>\n",
       "    <tr>\n",
       "      <th>108</th>\n",
       "      <td>109</td>\n",
       "      <td>TVET level 1&amp;2</td>\n",
       "      <td>Ngoma</td>\n",
       "      <td>east</td>\n",
       "      <td>7</td>\n",
       "      <td>70</td>\n",
       "      <td>7</td>\n",
       "      <td>52</td>\n",
       "    </tr>\n",
       "    <tr>\n",
       "      <th>11</th>\n",
       "      <td>12</td>\n",
       "      <td>Nursery</td>\n",
       "      <td>Nyamasheke</td>\n",
       "      <td>west</td>\n",
       "      <td>121</td>\n",
       "      <td>6941</td>\n",
       "      <td>121</td>\n",
       "      <td>9250</td>\n",
       "    </tr>\n",
       "    <tr>\n",
       "      <th>62</th>\n",
       "      <td>63</td>\n",
       "      <td>Secondary School</td>\n",
       "      <td>Muhanga</td>\n",
       "      <td>south</td>\n",
       "      <td>61</td>\n",
       "      <td>22227</td>\n",
       "      <td>60</td>\n",
       "      <td>24228</td>\n",
       "    </tr>\n",
       "    <tr>\n",
       "      <th>79</th>\n",
       "      <td>80</td>\n",
       "      <td>Secondary School</td>\n",
       "      <td>Nyagatare</td>\n",
       "      <td>east</td>\n",
       "      <td>54</td>\n",
       "      <td>22432</td>\n",
       "      <td>53</td>\n",
       "      <td>23109</td>\n",
       "    </tr>\n",
       "  </tbody>\n",
       "</table>\n",
       "</div>"
      ],
      "text/plain": [
       "       N             level    district province  schools_16  pupils_2016  \\\n",
       "109  110    TVET level 1&2   Nyagatare     east           2           17   \n",
       "98    99    TVET level 1&2   Ngororero     west           6           76   \n",
       "77    78  Secondary School      Kirehe     east          52        15094   \n",
       "24    25           Nursery     Gicumbi    north         154         7626   \n",
       "30    31           Primary        Huye    south          99        69019   \n",
       "112  113    TVET level 1&2     Gakenke    north           4           41   \n",
       "108  109    TVET level 1&2       Ngoma     east           7           70   \n",
       "11    12           Nursery  Nyamasheke     west         121         6941   \n",
       "62    63  Secondary School     Muhanga    south          61        22227   \n",
       "79    80  Secondary School   Nyagatare     east          54        22432   \n",
       "\n",
       "     schools_17  pupils_17  \n",
       "109           1          8  \n",
       "98            5         51  \n",
       "77           51      17134  \n",
       "24          146       8472  \n",
       "30           98      67906  \n",
       "112           5         28  \n",
       "108           7         52  \n",
       "11          121       9250  \n",
       "62           60      24228  \n",
       "79           53      23109  "
      ]
     },
     "execution_count": 25,
     "metadata": {},
     "output_type": "execute_result"
    }
   ],
   "source": [
    "df = pd.read_csv('schools1617.csv')\n",
    "df.sample(10)"
   ]
  },
  {
   "cell_type": "code",
   "execution_count": 20,
   "metadata": {},
   "outputs": [
    {
     "name": "stdout",
     "output_type": "stream",
     "text": [
      "<class 'pandas.core.frame.DataFrame'>\n",
      "RangeIndex: 120 entries, 0 to 119\n",
      "Data columns (total 8 columns):\n",
      "N              120 non-null object\n",
      "level          119 non-null object\n",
      "district       119 non-null object\n",
      "province       119 non-null object\n",
      "schools_16     120 non-null int64\n",
      "pupils_2016    120 non-null int64\n",
      "schools_17     120 non-null int64\n",
      "pupils_17      120 non-null int64\n",
      "dtypes: int64(4), object(4)\n",
      "memory usage: 7.6+ KB\n"
     ]
    }
   ],
   "source": [
    "df.info()"
   ]
  },
  {
   "cell_type": "code",
   "execution_count": 4,
   "metadata": {},
   "outputs": [
    {
     "data": {
      "text/plain": [
       "array(['Nursery', 'Primary', 'Secondary School', 'TVET level 1&2', nan],\n",
       "      dtype=object)"
      ]
     },
     "execution_count": 4,
     "metadata": {},
     "output_type": "execute_result"
    }
   ],
   "source": [
    "df.level.unique()"
   ]
  },
  {
   "cell_type": "markdown",
   "metadata": {},
   "source": [
    "### Grouping Data by Provinces\n",
    "\n",
    "#### South Province"
   ]
  },
  {
   "cell_type": "code",
   "execution_count": 32,
   "metadata": {},
   "outputs": [
    {
     "data": {
      "text/html": [
       "<div>\n",
       "<style scoped>\n",
       "    .dataframe tbody tr th:only-of-type {\n",
       "        vertical-align: middle;\n",
       "    }\n",
       "\n",
       "    .dataframe tbody tr th {\n",
       "        vertical-align: top;\n",
       "    }\n",
       "\n",
       "    .dataframe thead th {\n",
       "        text-align: right;\n",
       "    }\n",
       "</style>\n",
       "<table border=\"1\" class=\"dataframe\">\n",
       "  <thead>\n",
       "    <tr style=\"text-align: right;\">\n",
       "      <th></th>\n",
       "      <th>N</th>\n",
       "      <th>level</th>\n",
       "      <th>district</th>\n",
       "      <th>province</th>\n",
       "      <th>schools_16</th>\n",
       "      <th>pupils_2016</th>\n",
       "      <th>schools_17</th>\n",
       "      <th>pupils_17</th>\n",
       "    </tr>\n",
       "  </thead>\n",
       "  <tbody>\n",
       "    <tr>\n",
       "      <th>61</th>\n",
       "      <td>62</td>\n",
       "      <td>Secondary School</td>\n",
       "      <td>Kamonyi</td>\n",
       "      <td>south</td>\n",
       "      <td>55</td>\n",
       "      <td>18490</td>\n",
       "      <td>56</td>\n",
       "      <td>20484</td>\n",
       "    </tr>\n",
       "  </tbody>\n",
       "</table>\n",
       "</div>"
      ],
      "text/plain": [
       "     N             level district province  schools_16  pupils_2016  \\\n",
       "61  62  Secondary School  Kamonyi    south          55        18490   \n",
       "\n",
       "    schools_17  pupils_17  \n",
       "61          56      20484  "
      ]
     },
     "execution_count": 32,
     "metadata": {},
     "output_type": "execute_result"
    }
   ],
   "source": [
    "south_df = df.query('province==\"south\"')\n",
    "south_df.sample()"
   ]
  },
  {
   "cell_type": "markdown",
   "metadata": {},
   "source": [
    "#### North Province"
   ]
  },
  {
   "cell_type": "code",
   "execution_count": 34,
   "metadata": {},
   "outputs": [
    {
     "data": {
      "text/html": [
       "<div>\n",
       "<style scoped>\n",
       "    .dataframe tbody tr th:only-of-type {\n",
       "        vertical-align: middle;\n",
       "    }\n",
       "\n",
       "    .dataframe tbody tr th {\n",
       "        vertical-align: top;\n",
       "    }\n",
       "\n",
       "    .dataframe thead th {\n",
       "        text-align: right;\n",
       "    }\n",
       "</style>\n",
       "<table border=\"1\" class=\"dataframe\">\n",
       "  <thead>\n",
       "    <tr style=\"text-align: right;\">\n",
       "      <th></th>\n",
       "      <th>N</th>\n",
       "      <th>level</th>\n",
       "      <th>district</th>\n",
       "      <th>province</th>\n",
       "      <th>schools_16</th>\n",
       "      <th>pupils_2016</th>\n",
       "      <th>schools_17</th>\n",
       "      <th>pupils_17</th>\n",
       "    </tr>\n",
       "  </thead>\n",
       "  <tbody>\n",
       "    <tr>\n",
       "      <th>23</th>\n",
       "      <td>24</td>\n",
       "      <td>Nursery</td>\n",
       "      <td>Gakenke</td>\n",
       "      <td>north</td>\n",
       "      <td>137</td>\n",
       "      <td>8131</td>\n",
       "      <td>136</td>\n",
       "      <td>8579</td>\n",
       "    </tr>\n",
       "  </tbody>\n",
       "</table>\n",
       "</div>"
      ],
      "text/plain": [
       "     N    level district province  schools_16  pupils_2016  schools_17  \\\n",
       "23  24  Nursery  Gakenke    north         137         8131         136   \n",
       "\n",
       "    pupils_17  \n",
       "23       8579  "
      ]
     },
     "execution_count": 34,
     "metadata": {},
     "output_type": "execute_result"
    }
   ],
   "source": [
    "north_df = df.query('province==\"north\"')\n",
    "north_df.sample()"
   ]
  },
  {
   "cell_type": "markdown",
   "metadata": {},
   "source": [
    "#### East Province"
   ]
  },
  {
   "cell_type": "code",
   "execution_count": 35,
   "metadata": {
    "scrolled": true
   },
   "outputs": [
    {
     "data": {
      "text/html": [
       "<div>\n",
       "<style scoped>\n",
       "    .dataframe tbody tr th:only-of-type {\n",
       "        vertical-align: middle;\n",
       "    }\n",
       "\n",
       "    .dataframe tbody tr th {\n",
       "        vertical-align: top;\n",
       "    }\n",
       "\n",
       "    .dataframe thead th {\n",
       "        text-align: right;\n",
       "    }\n",
       "</style>\n",
       "<table border=\"1\" class=\"dataframe\">\n",
       "  <thead>\n",
       "    <tr style=\"text-align: right;\">\n",
       "      <th></th>\n",
       "      <th>N</th>\n",
       "      <th>level</th>\n",
       "      <th>district</th>\n",
       "      <th>province</th>\n",
       "      <th>schools_16</th>\n",
       "      <th>pupils_2016</th>\n",
       "      <th>schools_17</th>\n",
       "      <th>pupils_17</th>\n",
       "    </tr>\n",
       "  </thead>\n",
       "  <tbody>\n",
       "    <tr>\n",
       "      <th>80</th>\n",
       "      <td>81</td>\n",
       "      <td>Secondary School</td>\n",
       "      <td>Rwamagana</td>\n",
       "      <td>east</td>\n",
       "      <td>55</td>\n",
       "      <td>17369</td>\n",
       "      <td>56</td>\n",
       "      <td>19164</td>\n",
       "    </tr>\n",
       "  </tbody>\n",
       "</table>\n",
       "</div>"
      ],
      "text/plain": [
       "     N             level   district province  schools_16  pupils_2016  \\\n",
       "80  81  Secondary School  Rwamagana     east          55        17369   \n",
       "\n",
       "    schools_17  pupils_17  \n",
       "80          56      19164  "
      ]
     },
     "execution_count": 35,
     "metadata": {},
     "output_type": "execute_result"
    }
   ],
   "source": [
    "east_df = df.query('province==\"east\"')\n",
    "east_df.sample()"
   ]
  },
  {
   "cell_type": "markdown",
   "metadata": {},
   "source": [
    "#### West Province"
   ]
  },
  {
   "cell_type": "code",
   "execution_count": 36,
   "metadata": {},
   "outputs": [
    {
     "data": {
      "text/html": [
       "<div>\n",
       "<style scoped>\n",
       "    .dataframe tbody tr th:only-of-type {\n",
       "        vertical-align: middle;\n",
       "    }\n",
       "\n",
       "    .dataframe tbody tr th {\n",
       "        vertical-align: top;\n",
       "    }\n",
       "\n",
       "    .dataframe thead th {\n",
       "        text-align: right;\n",
       "    }\n",
       "</style>\n",
       "<table border=\"1\" class=\"dataframe\">\n",
       "  <thead>\n",
       "    <tr style=\"text-align: right;\">\n",
       "      <th></th>\n",
       "      <th>N</th>\n",
       "      <th>level</th>\n",
       "      <th>district</th>\n",
       "      <th>province</th>\n",
       "      <th>schools_16</th>\n",
       "      <th>pupils_2016</th>\n",
       "      <th>schools_17</th>\n",
       "      <th>pupils_17</th>\n",
       "    </tr>\n",
       "  </thead>\n",
       "  <tbody>\n",
       "    <tr>\n",
       "      <th>42</th>\n",
       "      <td>43</td>\n",
       "      <td>Primary</td>\n",
       "      <td>Rusizi</td>\n",
       "      <td>west</td>\n",
       "      <td>119</td>\n",
       "      <td>93689</td>\n",
       "      <td>119</td>\n",
       "      <td>95434</td>\n",
       "    </tr>\n",
       "  </tbody>\n",
       "</table>\n",
       "</div>"
      ],
      "text/plain": [
       "     N    level district province  schools_16  pupils_2016  schools_17  \\\n",
       "42  43  Primary   Rusizi     west         119        93689         119   \n",
       "\n",
       "    pupils_17  \n",
       "42      95434  "
      ]
     },
     "execution_count": 36,
     "metadata": {},
     "output_type": "execute_result"
    }
   ],
   "source": [
    "west_df = df.query('province==\"west\"')\n",
    "west_df.sample()"
   ]
  },
  {
   "cell_type": "markdown",
   "metadata": {},
   "source": [
    "### Numbers of Schools By Provinces"
   ]
  },
  {
   "cell_type": "code",
   "execution_count": 37,
   "metadata": {},
   "outputs": [
    {
     "data": {
      "text/html": [
       "<div>\n",
       "<style scoped>\n",
       "    .dataframe tbody tr th:only-of-type {\n",
       "        vertical-align: middle;\n",
       "    }\n",
       "\n",
       "    .dataframe tbody tr th {\n",
       "        vertical-align: top;\n",
       "    }\n",
       "\n",
       "    .dataframe thead th {\n",
       "        text-align: right;\n",
       "    }\n",
       "</style>\n",
       "<table border=\"1\" class=\"dataframe\">\n",
       "  <thead>\n",
       "    <tr style=\"text-align: right;\">\n",
       "      <th></th>\n",
       "      <th>N</th>\n",
       "      <th>level</th>\n",
       "      <th>district</th>\n",
       "      <th>province</th>\n",
       "      <th>schools_16</th>\n",
       "      <th>pupils_2016</th>\n",
       "      <th>schools_17</th>\n",
       "      <th>pupils_17</th>\n",
       "    </tr>\n",
       "  </thead>\n",
       "  <tbody>\n",
       "    <tr>\n",
       "      <th>0</th>\n",
       "      <td>1</td>\n",
       "      <td>Nursery</td>\n",
       "      <td>Gisagara</td>\n",
       "      <td>south</td>\n",
       "      <td>32</td>\n",
       "      <td>2358</td>\n",
       "      <td>41</td>\n",
       "      <td>3358</td>\n",
       "    </tr>\n",
       "    <tr>\n",
       "      <th>1</th>\n",
       "      <td>2</td>\n",
       "      <td>Nursery</td>\n",
       "      <td>Huye</td>\n",
       "      <td>south</td>\n",
       "      <td>101</td>\n",
       "      <td>6067</td>\n",
       "      <td>92</td>\n",
       "      <td>7333</td>\n",
       "    </tr>\n",
       "    <tr>\n",
       "      <th>2</th>\n",
       "      <td>3</td>\n",
       "      <td>Nursery</td>\n",
       "      <td>Kamonyi</td>\n",
       "      <td>south</td>\n",
       "      <td>75</td>\n",
       "      <td>5389</td>\n",
       "      <td>118</td>\n",
       "      <td>9487</td>\n",
       "    </tr>\n",
       "    <tr>\n",
       "      <th>3</th>\n",
       "      <td>4</td>\n",
       "      <td>Nursery</td>\n",
       "      <td>Muhanga</td>\n",
       "      <td>south</td>\n",
       "      <td>114</td>\n",
       "      <td>7009</td>\n",
       "      <td>139</td>\n",
       "      <td>9638</td>\n",
       "    </tr>\n",
       "    <tr>\n",
       "      <th>4</th>\n",
       "      <td>5</td>\n",
       "      <td>Nursery</td>\n",
       "      <td>Nyamagabe</td>\n",
       "      <td>south</td>\n",
       "      <td>78</td>\n",
       "      <td>5975</td>\n",
       "      <td>87</td>\n",
       "      <td>6607</td>\n",
       "    </tr>\n",
       "  </tbody>\n",
       "</table>\n",
       "</div>"
      ],
      "text/plain": [
       "   N    level   district province  schools_16  pupils_2016  schools_17  \\\n",
       "0  1  Nursery   Gisagara    south          32         2358          41   \n",
       "1  2  Nursery       Huye    south         101         6067          92   \n",
       "2  3  Nursery    Kamonyi    south          75         5389         118   \n",
       "3  4  Nursery    Muhanga    south         114         7009         139   \n",
       "4  5  Nursery  Nyamagabe    south          78         5975          87   \n",
       "\n",
       "   pupils_17  \n",
       "0       3358  \n",
       "1       7333  \n",
       "2       9487  \n",
       "3       9638  \n",
       "4       6607  "
      ]
     },
     "execution_count": 37,
     "metadata": {},
     "output_type": "execute_result"
    }
   ],
   "source": [
    "south_df.head()"
   ]
  },
  {
   "cell_type": "code",
   "execution_count": 33,
   "metadata": {},
   "outputs": [
    {
     "data": {
      "text/html": [
       "<div>\n",
       "<style scoped>\n",
       "    .dataframe tbody tr th:only-of-type {\n",
       "        vertical-align: middle;\n",
       "    }\n",
       "\n",
       "    .dataframe tbody tr th {\n",
       "        vertical-align: top;\n",
       "    }\n",
       "\n",
       "    .dataframe thead th {\n",
       "        text-align: right;\n",
       "    }\n",
       "</style>\n",
       "<table border=\"1\" class=\"dataframe\">\n",
       "  <thead>\n",
       "    <tr style=\"text-align: right;\">\n",
       "      <th></th>\n",
       "      <th>N</th>\n",
       "      <th>level</th>\n",
       "      <th>district</th>\n",
       "      <th>province</th>\n",
       "      <th>schools_16</th>\n",
       "      <th>pupils_2016</th>\n",
       "      <th>schools_17</th>\n",
       "      <th>pupils_17</th>\n",
       "    </tr>\n",
       "  </thead>\n",
       "  <tbody>\n",
       "    <tr>\n",
       "      <th>0</th>\n",
       "      <td>1</td>\n",
       "      <td>Nursery</td>\n",
       "      <td>Gisagara</td>\n",
       "      <td>south</td>\n",
       "      <td>32</td>\n",
       "      <td>2358</td>\n",
       "      <td>41</td>\n",
       "      <td>3358</td>\n",
       "    </tr>\n",
       "    <tr>\n",
       "      <th>1</th>\n",
       "      <td>2</td>\n",
       "      <td>Nursery</td>\n",
       "      <td>Huye</td>\n",
       "      <td>south</td>\n",
       "      <td>101</td>\n",
       "      <td>6067</td>\n",
       "      <td>92</td>\n",
       "      <td>7333</td>\n",
       "    </tr>\n",
       "    <tr>\n",
       "      <th>2</th>\n",
       "      <td>3</td>\n",
       "      <td>Nursery</td>\n",
       "      <td>Kamonyi</td>\n",
       "      <td>south</td>\n",
       "      <td>75</td>\n",
       "      <td>5389</td>\n",
       "      <td>118</td>\n",
       "      <td>9487</td>\n",
       "    </tr>\n",
       "    <tr>\n",
       "      <th>3</th>\n",
       "      <td>4</td>\n",
       "      <td>Nursery</td>\n",
       "      <td>Muhanga</td>\n",
       "      <td>south</td>\n",
       "      <td>114</td>\n",
       "      <td>7009</td>\n",
       "      <td>139</td>\n",
       "      <td>9638</td>\n",
       "    </tr>\n",
       "    <tr>\n",
       "      <th>4</th>\n",
       "      <td>5</td>\n",
       "      <td>Nursery</td>\n",
       "      <td>Nyamagabe</td>\n",
       "      <td>south</td>\n",
       "      <td>78</td>\n",
       "      <td>5975</td>\n",
       "      <td>87</td>\n",
       "      <td>6607</td>\n",
       "    </tr>\n",
       "    <tr>\n",
       "      <th>5</th>\n",
       "      <td>6</td>\n",
       "      <td>Nursery</td>\n",
       "      <td>Nyanza</td>\n",
       "      <td>south</td>\n",
       "      <td>85</td>\n",
       "      <td>7533</td>\n",
       "      <td>86</td>\n",
       "      <td>7169</td>\n",
       "    </tr>\n",
       "    <tr>\n",
       "      <th>6</th>\n",
       "      <td>7</td>\n",
       "      <td>Nursery</td>\n",
       "      <td>Nyaruguru</td>\n",
       "      <td>south</td>\n",
       "      <td>46</td>\n",
       "      <td>2951</td>\n",
       "      <td>58</td>\n",
       "      <td>4002</td>\n",
       "    </tr>\n",
       "    <tr>\n",
       "      <th>7</th>\n",
       "      <td>8</td>\n",
       "      <td>Nursery</td>\n",
       "      <td>Ruhango</td>\n",
       "      <td>south</td>\n",
       "      <td>74</td>\n",
       "      <td>4253</td>\n",
       "      <td>76</td>\n",
       "      <td>4976</td>\n",
       "    </tr>\n",
       "  </tbody>\n",
       "</table>\n",
       "</div>"
      ],
      "text/plain": [
       "   N    level   district province  schools_16  pupils_2016  schools_17  \\\n",
       "0  1  Nursery   Gisagara    south          32         2358          41   \n",
       "1  2  Nursery       Huye    south         101         6067          92   \n",
       "2  3  Nursery    Kamonyi    south          75         5389         118   \n",
       "3  4  Nursery    Muhanga    south         114         7009         139   \n",
       "4  5  Nursery  Nyamagabe    south          78         5975          87   \n",
       "5  6  Nursery     Nyanza    south          85         7533          86   \n",
       "6  7  Nursery  Nyaruguru    south          46         2951          58   \n",
       "7  8  Nursery    Ruhango    south          74         4253          76   \n",
       "\n",
       "   pupils_17  \n",
       "0       3358  \n",
       "1       7333  \n",
       "2       9487  \n",
       "3       9638  \n",
       "4       6607  \n",
       "5       7169  \n",
       "6       4002  \n",
       "7       4976  "
      ]
     },
     "execution_count": 33,
     "metadata": {},
     "output_type": "execute_result"
    }
   ],
   "source": [
    "south_nursery_df = south_df.query('level==\"Nursery\"')\n",
    "south_nursery_df   "
   ]
  },
  {
   "cell_type": "code",
   "execution_count": null,
   "metadata": {},
   "outputs": [],
   "source": [
    "north_nursery_df = north_df.query('level==\"Nursery\"')\n",
    "south_nursery_df"
   ]
  },
  {
   "cell_type": "code",
   "execution_count": 16,
   "metadata": {},
   "outputs": [
    {
     "data": {
      "text/plain": [
       "(52570, 41535, 605, 697)"
      ]
     },
     "execution_count": 16,
     "metadata": {},
     "output_type": "execute_result"
    }
   ],
   "source": [
    "south_pupils_17 = south_nursery_df['pupils_17'].sum()\n",
    "south_pupils_16 = south_nursery_df['pupils_2016'].sum()\n",
    "south_schools_16 = south_nursery_df['schools_16'].sum()\n",
    "south_schools_17 = south_nursery_df['schools_17'].sum()\n",
    "south_pupils_17, south_pupils_16, south_schools_16, south_schools_17"
   ]
  },
  {
   "cell_type": "code",
   "execution_count": 17,
   "metadata": {},
   "outputs": [
    {
     "data": {
      "text/html": [
       "<div>\n",
       "<style scoped>\n",
       "    .dataframe tbody tr th:only-of-type {\n",
       "        vertical-align: middle;\n",
       "    }\n",
       "\n",
       "    .dataframe tbody tr th {\n",
       "        vertical-align: top;\n",
       "    }\n",
       "\n",
       "    .dataframe thead th {\n",
       "        text-align: right;\n",
       "    }\n",
       "</style>\n",
       "<table border=\"1\" class=\"dataframe\">\n",
       "  <thead>\n",
       "    <tr style=\"text-align: right;\">\n",
       "      <th></th>\n",
       "      <th>N</th>\n",
       "      <th>level</th>\n",
       "      <th>district</th>\n",
       "      <th>province</th>\n",
       "      <th>schools_16</th>\n",
       "      <th>pupils_2016</th>\n",
       "      <th>schools_17</th>\n",
       "      <th>pupils_17</th>\n",
       "    </tr>\n",
       "  </thead>\n",
       "  <tbody>\n",
       "    <tr>\n",
       "      <th>22</th>\n",
       "      <td>23</td>\n",
       "      <td>Nursery</td>\n",
       "      <td>Burera</td>\n",
       "      <td>north</td>\n",
       "      <td>103</td>\n",
       "      <td>6410</td>\n",
       "      <td>111</td>\n",
       "      <td>7597</td>\n",
       "    </tr>\n",
       "    <tr>\n",
       "      <th>23</th>\n",
       "      <td>24</td>\n",
       "      <td>Nursery</td>\n",
       "      <td>Gakenke</td>\n",
       "      <td>north</td>\n",
       "      <td>137</td>\n",
       "      <td>8131</td>\n",
       "      <td>136</td>\n",
       "      <td>8579</td>\n",
       "    </tr>\n",
       "    <tr>\n",
       "      <th>24</th>\n",
       "      <td>25</td>\n",
       "      <td>Nursery</td>\n",
       "      <td>Gicumbi</td>\n",
       "      <td>north</td>\n",
       "      <td>154</td>\n",
       "      <td>7626</td>\n",
       "      <td>146</td>\n",
       "      <td>8472</td>\n",
       "    </tr>\n",
       "    <tr>\n",
       "      <th>25</th>\n",
       "      <td>26</td>\n",
       "      <td>Nursery</td>\n",
       "      <td>Musanze</td>\n",
       "      <td>north</td>\n",
       "      <td>122</td>\n",
       "      <td>7761</td>\n",
       "      <td>142</td>\n",
       "      <td>8633</td>\n",
       "    </tr>\n",
       "    <tr>\n",
       "      <th>26</th>\n",
       "      <td>27</td>\n",
       "      <td>Nursery</td>\n",
       "      <td>Rulindo</td>\n",
       "      <td>north</td>\n",
       "      <td>90</td>\n",
       "      <td>7376</td>\n",
       "      <td>97</td>\n",
       "      <td>7490</td>\n",
       "    </tr>\n",
       "  </tbody>\n",
       "</table>\n",
       "</div>"
      ],
      "text/plain": [
       "     N    level district province  schools_16  pupils_2016  schools_17  \\\n",
       "22  23  Nursery   Burera    north         103         6410         111   \n",
       "23  24  Nursery  Gakenke    north         137         8131         136   \n",
       "24  25  Nursery  Gicumbi    north         154         7626         146   \n",
       "25  26  Nursery  Musanze    north         122         7761         142   \n",
       "26  27  Nursery  Rulindo    north          90         7376          97   \n",
       "\n",
       "    pupils_17  \n",
       "22       7597  \n",
       "23       8579  \n",
       "24       8472  \n",
       "25       8633  \n",
       "26       7490  "
      ]
     },
     "execution_count": 17,
     "metadata": {},
     "output_type": "execute_result"
    }
   ],
   "source": [
    "north_nursery_df = df.query('level==\"Nursery\" & province==\"north\"')\n",
    "north_nursery_df"
   ]
  },
  {
   "cell_type": "code",
   "execution_count": 18,
   "metadata": {},
   "outputs": [
    {
     "data": {
      "text/plain": [
       "(40771, 37304, 605, 697)"
      ]
     },
     "execution_count": 18,
     "metadata": {},
     "output_type": "execute_result"
    }
   ],
   "source": [
    "north_pupils_17 = north_nursery_df['pupils_17'].sum()\n",
    "north_pupils_16 = north_nursery_df['pupils_2016'].sum()\n",
    "north_schools_16 = south_nursery_df['schools_16'].sum()\n",
    "north_schools_17 = south_nursery_df['schools_17'].sum()\n",
    "north_pupils_17, north_pupils_16, north_schools_16, north_schools_17"
   ]
  },
  {
   "cell_type": "code",
   "execution_count": 19,
   "metadata": {},
   "outputs": [
    {
     "name": "stdout",
     "output_type": "stream",
     "text": [
      "<class 'pandas.core.frame.DataFrame'>\n",
      "RangeIndex: 120 entries, 0 to 119\n",
      "Data columns (total 8 columns):\n",
      "N              120 non-null object\n",
      "level          119 non-null object\n",
      "district       119 non-null object\n",
      "province       119 non-null object\n",
      "schools_16     120 non-null int64\n",
      "pupils_2016    120 non-null int64\n",
      "schools_17     120 non-null int64\n",
      "pupils_17      120 non-null int64\n",
      "dtypes: int64(4), object(4)\n",
      "memory usage: 7.6+ KB\n"
     ]
    }
   ],
   "source": [
    "df.info()"
   ]
  },
  {
   "cell_type": "code",
   "execution_count": null,
   "metadata": {},
   "outputs": [],
   "source": []
  }
 ],
 "metadata": {
  "kernelspec": {
   "display_name": "Python 3",
   "language": "python",
   "name": "python3"
  },
  "language_info": {
   "codemirror_mode": {
    "name": "ipython",
    "version": 3
   },
   "file_extension": ".py",
   "mimetype": "text/x-python",
   "name": "python",
   "nbconvert_exporter": "python",
   "pygments_lexer": "ipython3",
   "version": "3.7.3"
  }
 },
 "nbformat": 4,
 "nbformat_minor": 2
}
