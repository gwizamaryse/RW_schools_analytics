{
 "cells": [
  {
   "cell_type": "markdown",
   "metadata": {},
   "source": [
    "# Schools Analytics\n",
    "\n",
    "This analysis is based on data collected from education statistics published by the ministry of education in Rwanda each year. <br> The data used today was taken from Rwanda Education Statistics, published yearly by MINEDUC. <br>\n",
    "This data was collected from 2016 and 2017 publications. \n",
    "Data wrangling for this dataset has been done as part of another project. which was undocumented. "
   ]
  },
  {
   "cell_type": "markdown",
   "metadata": {},
   "source": [
    "### Dataset description\n",
    "\n",
    "the dataset has the following features: \n",
    "* Level: describe the type of school. unique values are Nursery , Primary, secondary and TVET 1&2\n",
    "* district, its describe the number of schools, pupils, level for the given district\n",
    "* province: the province the district belongs to\n",
    "* schools_16 : describe the number of schools in a particular level in the given district in 2016\n",
    "* pupils_16: describe the number of pupils in a given level for a district in 2016\n",
    "* schools_17 : describe the number of schools in a particular level in the given district in 2017\n",
    "* pupils_17: describe the number of pupils in a given level for a district in 2017"
   ]
  },
  {
   "cell_type": "markdown",
   "metadata": {},
   "source": [
    "###  Analysis Questions\n",
    "\n",
    "1. Rank provinces by the numbers of schools in 2016, which provinces had the most schools in 2016? \n",
    "2. Was the tendency the same in 2017? which provinces had the most changes? either in number of schools or number of pupils? \n",
    "3. which district has the most nursery schools?\n",
    "4. which district has the most primary schools?\n",
    "5. which district has the most secondary schools?\n",
    "6. which district has the most  TVET schools? \n",
    "7. which district has the most students?  (selector for level and district)\n",
    "8. what is the distribution of Nursery schools on map? (drop down for levels)"
   ]
  },
  {
   "cell_type": "markdown",
   "metadata": {},
   "source": [
    "### Imports"
   ]
  },
  {
   "cell_type": "code",
   "execution_count": 75,
   "metadata": {},
   "outputs": [],
   "source": [
    "import pandas as pd\n",
    "import seaborn as sb\n",
    "import plotly.graph_objs as go\n",
    "import plotly.offline as pyo\n",
    "from plotly.offline import download_plotlyjs, init_notebook_mode, plot, iplot"
   ]
  },
  {
   "cell_type": "markdown",
   "metadata": {},
   "source": [
    "### Importing Data "
   ]
  },
  {
   "cell_type": "code",
   "execution_count": 76,
   "metadata": {},
   "outputs": [
    {
     "data": {
      "text/html": [
       "<div>\n",
       "<style scoped>\n",
       "    .dataframe tbody tr th:only-of-type {\n",
       "        vertical-align: middle;\n",
       "    }\n",
       "\n",
       "    .dataframe tbody tr th {\n",
       "        vertical-align: top;\n",
       "    }\n",
       "\n",
       "    .dataframe thead th {\n",
       "        text-align: right;\n",
       "    }\n",
       "</style>\n",
       "<table border=\"1\" class=\"dataframe\">\n",
       "  <thead>\n",
       "    <tr style=\"text-align: right;\">\n",
       "      <th></th>\n",
       "      <th>N</th>\n",
       "      <th>level</th>\n",
       "      <th>district</th>\n",
       "      <th>province</th>\n",
       "      <th>schools_16</th>\n",
       "      <th>pupils_2016</th>\n",
       "      <th>schools_17</th>\n",
       "      <th>pupils_17</th>\n",
       "    </tr>\n",
       "  </thead>\n",
       "  <tbody>\n",
       "    <tr>\n",
       "      <th>115</th>\n",
       "      <td>116</td>\n",
       "      <td>TVET level 1&amp;2</td>\n",
       "      <td>Rulindo</td>\n",
       "      <td>north</td>\n",
       "      <td>5</td>\n",
       "      <td>30</td>\n",
       "      <td>6</td>\n",
       "      <td>57</td>\n",
       "    </tr>\n",
       "    <tr>\n",
       "      <th>116</th>\n",
       "      <td>117</td>\n",
       "      <td>TVET level 1&amp;2</td>\n",
       "      <td>Gasabo</td>\n",
       "      <td>kigali</td>\n",
       "      <td>6</td>\n",
       "      <td>146</td>\n",
       "      <td>11</td>\n",
       "      <td>126</td>\n",
       "    </tr>\n",
       "    <tr>\n",
       "      <th>117</th>\n",
       "      <td>118</td>\n",
       "      <td>TVET level 1&amp;2</td>\n",
       "      <td>Kicukiro</td>\n",
       "      <td>kigali</td>\n",
       "      <td>17</td>\n",
       "      <td>158</td>\n",
       "      <td>16</td>\n",
       "      <td>192</td>\n",
       "    </tr>\n",
       "    <tr>\n",
       "      <th>118</th>\n",
       "      <td>119</td>\n",
       "      <td>TVET level 1&amp;2</td>\n",
       "      <td>Nyarugenge</td>\n",
       "      <td>kigali</td>\n",
       "      <td>4</td>\n",
       "      <td>41</td>\n",
       "      <td>7</td>\n",
       "      <td>90</td>\n",
       "    </tr>\n",
       "    <tr>\n",
       "      <th>119</th>\n",
       "      <td>Total</td>\n",
       "      <td>NaN</td>\n",
       "      <td>NaN</td>\n",
       "      <td>NaN</td>\n",
       "      <td>7292</td>\n",
       "      <td>3205557</td>\n",
       "      <td>7544</td>\n",
       "      <td>3202093</td>\n",
       "    </tr>\n",
       "  </tbody>\n",
       "</table>\n",
       "</div>"
      ],
      "text/plain": [
       "         N           level    district province  schools_16  pupils_2016  \\\n",
       "115    116  TVET level 1&2     Rulindo    north           5           30   \n",
       "116    117  TVET level 1&2      Gasabo   kigali           6          146   \n",
       "117    118  TVET level 1&2    Kicukiro   kigali          17          158   \n",
       "118    119  TVET level 1&2  Nyarugenge   kigali           4           41   \n",
       "119  Total             NaN         NaN      NaN        7292      3205557   \n",
       "\n",
       "     schools_17  pupils_17  \n",
       "115           6         57  \n",
       "116          11        126  \n",
       "117          16        192  \n",
       "118           7         90  \n",
       "119        7544    3202093  "
      ]
     },
     "execution_count": 76,
     "metadata": {},
     "output_type": "execute_result"
    }
   ],
   "source": [
    "df = pd.read_csv('schools1617.csv')\n",
    "df.tail()"
   ]
  },
  {
   "cell_type": "code",
   "execution_count": 77,
   "metadata": {},
   "outputs": [
    {
     "name": "stdout",
     "output_type": "stream",
     "text": [
      "<class 'pandas.core.frame.DataFrame'>\n",
      "RangeIndex: 120 entries, 0 to 119\n",
      "Data columns (total 8 columns):\n",
      "N              120 non-null object\n",
      "level          119 non-null object\n",
      "district       119 non-null object\n",
      "province       119 non-null object\n",
      "schools_16     120 non-null int64\n",
      "pupils_2016    120 non-null int64\n",
      "schools_17     120 non-null int64\n",
      "pupils_17      120 non-null int64\n",
      "dtypes: int64(4), object(4)\n",
      "memory usage: 7.6+ KB\n"
     ]
    }
   ],
   "source": [
    "df.info()"
   ]
  },
  {
   "cell_type": "code",
   "execution_count": 78,
   "metadata": {},
   "outputs": [
    {
     "data": {
      "text/plain": [
       "array(['Nursery', 'Primary', 'Secondary School', 'TVET level 1&2', nan],\n",
       "      dtype=object)"
      ]
     },
     "execution_count": 78,
     "metadata": {},
     "output_type": "execute_result"
    }
   ],
   "source": [
    "df.level.unique()"
   ]
  },
  {
   "cell_type": "markdown",
   "metadata": {},
   "source": [
    "### Grouping Data by Provinces\n",
    "\n",
    "#### South Province"
   ]
  },
  {
   "cell_type": "code",
   "execution_count": 79,
   "metadata": {},
   "outputs": [
    {
     "data": {
      "text/html": [
       "<div>\n",
       "<style scoped>\n",
       "    .dataframe tbody tr th:only-of-type {\n",
       "        vertical-align: middle;\n",
       "    }\n",
       "\n",
       "    .dataframe tbody tr th {\n",
       "        vertical-align: top;\n",
       "    }\n",
       "\n",
       "    .dataframe thead th {\n",
       "        text-align: right;\n",
       "    }\n",
       "</style>\n",
       "<table border=\"1\" class=\"dataframe\">\n",
       "  <thead>\n",
       "    <tr style=\"text-align: right;\">\n",
       "      <th></th>\n",
       "      <th>N</th>\n",
       "      <th>level</th>\n",
       "      <th>district</th>\n",
       "      <th>province</th>\n",
       "      <th>schools_16</th>\n",
       "      <th>pupils_2016</th>\n",
       "      <th>schools_17</th>\n",
       "      <th>pupils_17</th>\n",
       "    </tr>\n",
       "  </thead>\n",
       "  <tbody>\n",
       "    <tr>\n",
       "      <th>95</th>\n",
       "      <td>96</td>\n",
       "      <td>TVET level 1&amp;2</td>\n",
       "      <td>Nyaruguru</td>\n",
       "      <td>south</td>\n",
       "      <td>2</td>\n",
       "      <td>42</td>\n",
       "      <td>2</td>\n",
       "      <td>23</td>\n",
       "    </tr>\n",
       "  </tbody>\n",
       "</table>\n",
       "</div>"
      ],
      "text/plain": [
       "     N           level   district province  schools_16  pupils_2016  \\\n",
       "95  96  TVET level 1&2  Nyaruguru    south           2           42   \n",
       "\n",
       "    schools_17  pupils_17  \n",
       "95           2         23  "
      ]
     },
     "execution_count": 79,
     "metadata": {},
     "output_type": "execute_result"
    }
   ],
   "source": [
    "south_df = df.query('province==\"south\"')\n",
    "south_df.sample()"
   ]
  },
  {
   "cell_type": "markdown",
   "metadata": {},
   "source": [
    "#### North Province"
   ]
  },
  {
   "cell_type": "code",
   "execution_count": 80,
   "metadata": {},
   "outputs": [
    {
     "data": {
      "text/html": [
       "<div>\n",
       "<style scoped>\n",
       "    .dataframe tbody tr th:only-of-type {\n",
       "        vertical-align: middle;\n",
       "    }\n",
       "\n",
       "    .dataframe tbody tr th {\n",
       "        vertical-align: top;\n",
       "    }\n",
       "\n",
       "    .dataframe thead th {\n",
       "        text-align: right;\n",
       "    }\n",
       "</style>\n",
       "<table border=\"1\" class=\"dataframe\">\n",
       "  <thead>\n",
       "    <tr style=\"text-align: right;\">\n",
       "      <th></th>\n",
       "      <th>N</th>\n",
       "      <th>level</th>\n",
       "      <th>district</th>\n",
       "      <th>province</th>\n",
       "      <th>schools_16</th>\n",
       "      <th>pupils_2016</th>\n",
       "      <th>schools_17</th>\n",
       "      <th>pupils_17</th>\n",
       "    </tr>\n",
       "  </thead>\n",
       "  <tbody>\n",
       "    <tr>\n",
       "      <th>112</th>\n",
       "      <td>113</td>\n",
       "      <td>TVET level 1&amp;2</td>\n",
       "      <td>Gakenke</td>\n",
       "      <td>north</td>\n",
       "      <td>4</td>\n",
       "      <td>41</td>\n",
       "      <td>5</td>\n",
       "      <td>28</td>\n",
       "    </tr>\n",
       "  </tbody>\n",
       "</table>\n",
       "</div>"
      ],
      "text/plain": [
       "       N           level district province  schools_16  pupils_2016  \\\n",
       "112  113  TVET level 1&2  Gakenke    north           4           41   \n",
       "\n",
       "     schools_17  pupils_17  \n",
       "112           5         28  "
      ]
     },
     "execution_count": 80,
     "metadata": {},
     "output_type": "execute_result"
    }
   ],
   "source": [
    "north_df = df.query('province==\"north\"')\n",
    "north_df.sample()"
   ]
  },
  {
   "cell_type": "markdown",
   "metadata": {},
   "source": [
    "#### East Province"
   ]
  },
  {
   "cell_type": "code",
   "execution_count": 81,
   "metadata": {
    "scrolled": true
   },
   "outputs": [
    {
     "data": {
      "text/html": [
       "<div>\n",
       "<style scoped>\n",
       "    .dataframe tbody tr th:only-of-type {\n",
       "        vertical-align: middle;\n",
       "    }\n",
       "\n",
       "    .dataframe tbody tr th {\n",
       "        vertical-align: top;\n",
       "    }\n",
       "\n",
       "    .dataframe thead th {\n",
       "        text-align: right;\n",
       "    }\n",
       "</style>\n",
       "<table border=\"1\" class=\"dataframe\">\n",
       "  <thead>\n",
       "    <tr style=\"text-align: right;\">\n",
       "      <th></th>\n",
       "      <th>N</th>\n",
       "      <th>level</th>\n",
       "      <th>district</th>\n",
       "      <th>province</th>\n",
       "      <th>schools_16</th>\n",
       "      <th>pupils_2016</th>\n",
       "      <th>schools_17</th>\n",
       "      <th>pupils_17</th>\n",
       "    </tr>\n",
       "  </thead>\n",
       "  <tbody>\n",
       "    <tr>\n",
       "      <th>21</th>\n",
       "      <td>22</td>\n",
       "      <td>Nursery</td>\n",
       "      <td>Rwamagana</td>\n",
       "      <td>east</td>\n",
       "      <td>102</td>\n",
       "      <td>6259</td>\n",
       "      <td>138</td>\n",
       "      <td>7797</td>\n",
       "    </tr>\n",
       "  </tbody>\n",
       "</table>\n",
       "</div>"
      ],
      "text/plain": [
       "     N    level   district province  schools_16  pupils_2016  schools_17  \\\n",
       "21  22  Nursery  Rwamagana     east         102         6259         138   \n",
       "\n",
       "    pupils_17  \n",
       "21       7797  "
      ]
     },
     "execution_count": 81,
     "metadata": {},
     "output_type": "execute_result"
    }
   ],
   "source": [
    "east_df = df.query('province==\"east\"')\n",
    "east_df.sample()"
   ]
  },
  {
   "cell_type": "markdown",
   "metadata": {},
   "source": [
    "#### West Province"
   ]
  },
  {
   "cell_type": "code",
   "execution_count": 82,
   "metadata": {},
   "outputs": [
    {
     "data": {
      "text/html": [
       "<div>\n",
       "<style scoped>\n",
       "    .dataframe tbody tr th:only-of-type {\n",
       "        vertical-align: middle;\n",
       "    }\n",
       "\n",
       "    .dataframe tbody tr th {\n",
       "        vertical-align: top;\n",
       "    }\n",
       "\n",
       "    .dataframe thead th {\n",
       "        text-align: right;\n",
       "    }\n",
       "</style>\n",
       "<table border=\"1\" class=\"dataframe\">\n",
       "  <thead>\n",
       "    <tr style=\"text-align: right;\">\n",
       "      <th></th>\n",
       "      <th>N</th>\n",
       "      <th>level</th>\n",
       "      <th>district</th>\n",
       "      <th>province</th>\n",
       "      <th>schools_16</th>\n",
       "      <th>pupils_2016</th>\n",
       "      <th>schools_17</th>\n",
       "      <th>pupils_17</th>\n",
       "    </tr>\n",
       "  </thead>\n",
       "  <tbody>\n",
       "    <tr>\n",
       "      <th>12</th>\n",
       "      <td>13</td>\n",
       "      <td>Nursery</td>\n",
       "      <td>Rubavu</td>\n",
       "      <td>west</td>\n",
       "      <td>108</td>\n",
       "      <td>6783</td>\n",
       "      <td>108</td>\n",
       "      <td>8678</td>\n",
       "    </tr>\n",
       "  </tbody>\n",
       "</table>\n",
       "</div>"
      ],
      "text/plain": [
       "     N    level district province  schools_16  pupils_2016  schools_17  \\\n",
       "12  13  Nursery   Rubavu     west         108         6783         108   \n",
       "\n",
       "    pupils_17  \n",
       "12       8678  "
      ]
     },
     "execution_count": 82,
     "metadata": {},
     "output_type": "execute_result"
    }
   ],
   "source": [
    "west_df = df.query('province==\"west\"')\n",
    "west_df.sample()"
   ]
  },
  {
   "cell_type": "markdown",
   "metadata": {},
   "source": [
    "#### Kigali City df"
   ]
  },
  {
   "cell_type": "code",
   "execution_count": 83,
   "metadata": {},
   "outputs": [
    {
     "data": {
      "text/html": [
       "<div>\n",
       "<style scoped>\n",
       "    .dataframe tbody tr th:only-of-type {\n",
       "        vertical-align: middle;\n",
       "    }\n",
       "\n",
       "    .dataframe tbody tr th {\n",
       "        vertical-align: top;\n",
       "    }\n",
       "\n",
       "    .dataframe thead th {\n",
       "        text-align: right;\n",
       "    }\n",
       "</style>\n",
       "<table border=\"1\" class=\"dataframe\">\n",
       "  <thead>\n",
       "    <tr style=\"text-align: right;\">\n",
       "      <th></th>\n",
       "      <th>N</th>\n",
       "      <th>level</th>\n",
       "      <th>district</th>\n",
       "      <th>province</th>\n",
       "      <th>schools_16</th>\n",
       "      <th>pupils_2016</th>\n",
       "      <th>schools_17</th>\n",
       "      <th>pupils_17</th>\n",
       "    </tr>\n",
       "  </thead>\n",
       "  <tbody>\n",
       "    <tr>\n",
       "      <th>86</th>\n",
       "      <td>87</td>\n",
       "      <td>Secondary School</td>\n",
       "      <td>Gasabo</td>\n",
       "      <td>kigali</td>\n",
       "      <td>60</td>\n",
       "      <td>19536</td>\n",
       "      <td>54</td>\n",
       "      <td>20391</td>\n",
       "    </tr>\n",
       "  </tbody>\n",
       "</table>\n",
       "</div>"
      ],
      "text/plain": [
       "     N             level district province  schools_16  pupils_2016  \\\n",
       "86  87  Secondary School   Gasabo   kigali          60        19536   \n",
       "\n",
       "    schools_17  pupils_17  \n",
       "86          54      20391  "
      ]
     },
     "execution_count": 83,
     "metadata": {},
     "output_type": "execute_result"
    }
   ],
   "source": [
    "kigali_df = df.query('province==\"kigali\"')\n",
    "kigali_df.sample()"
   ]
  },
  {
   "cell_type": "markdown",
   "metadata": {},
   "source": [
    "### Numbers of Schools By Provinces"
   ]
  },
  {
   "cell_type": "code",
   "execution_count": 84,
   "metadata": {},
   "outputs": [
    {
     "data": {
      "text/html": [
       "<div>\n",
       "<style scoped>\n",
       "    .dataframe tbody tr th:only-of-type {\n",
       "        vertical-align: middle;\n",
       "    }\n",
       "\n",
       "    .dataframe tbody tr th {\n",
       "        vertical-align: top;\n",
       "    }\n",
       "\n",
       "    .dataframe thead th {\n",
       "        text-align: right;\n",
       "    }\n",
       "</style>\n",
       "<table border=\"1\" class=\"dataframe\">\n",
       "  <thead>\n",
       "    <tr style=\"text-align: right;\">\n",
       "      <th></th>\n",
       "      <th>N</th>\n",
       "      <th>level</th>\n",
       "      <th>district</th>\n",
       "      <th>province</th>\n",
       "      <th>schools_16</th>\n",
       "      <th>pupils_2016</th>\n",
       "      <th>schools_17</th>\n",
       "      <th>pupils_17</th>\n",
       "    </tr>\n",
       "  </thead>\n",
       "  <tbody>\n",
       "    <tr>\n",
       "      <th>0</th>\n",
       "      <td>1</td>\n",
       "      <td>Nursery</td>\n",
       "      <td>Gisagara</td>\n",
       "      <td>south</td>\n",
       "      <td>32</td>\n",
       "      <td>2358</td>\n",
       "      <td>41</td>\n",
       "      <td>3358</td>\n",
       "    </tr>\n",
       "    <tr>\n",
       "      <th>1</th>\n",
       "      <td>2</td>\n",
       "      <td>Nursery</td>\n",
       "      <td>Huye</td>\n",
       "      <td>south</td>\n",
       "      <td>101</td>\n",
       "      <td>6067</td>\n",
       "      <td>92</td>\n",
       "      <td>7333</td>\n",
       "    </tr>\n",
       "    <tr>\n",
       "      <th>2</th>\n",
       "      <td>3</td>\n",
       "      <td>Nursery</td>\n",
       "      <td>Kamonyi</td>\n",
       "      <td>south</td>\n",
       "      <td>75</td>\n",
       "      <td>5389</td>\n",
       "      <td>118</td>\n",
       "      <td>9487</td>\n",
       "    </tr>\n",
       "    <tr>\n",
       "      <th>3</th>\n",
       "      <td>4</td>\n",
       "      <td>Nursery</td>\n",
       "      <td>Muhanga</td>\n",
       "      <td>south</td>\n",
       "      <td>114</td>\n",
       "      <td>7009</td>\n",
       "      <td>139</td>\n",
       "      <td>9638</td>\n",
       "    </tr>\n",
       "    <tr>\n",
       "      <th>4</th>\n",
       "      <td>5</td>\n",
       "      <td>Nursery</td>\n",
       "      <td>Nyamagabe</td>\n",
       "      <td>south</td>\n",
       "      <td>78</td>\n",
       "      <td>5975</td>\n",
       "      <td>87</td>\n",
       "      <td>6607</td>\n",
       "    </tr>\n",
       "  </tbody>\n",
       "</table>\n",
       "</div>"
      ],
      "text/plain": [
       "   N    level   district province  schools_16  pupils_2016  schools_17  \\\n",
       "0  1  Nursery   Gisagara    south          32         2358          41   \n",
       "1  2  Nursery       Huye    south         101         6067          92   \n",
       "2  3  Nursery    Kamonyi    south          75         5389         118   \n",
       "3  4  Nursery    Muhanga    south         114         7009         139   \n",
       "4  5  Nursery  Nyamagabe    south          78         5975          87   \n",
       "\n",
       "   pupils_17  \n",
       "0       3358  \n",
       "1       7333  \n",
       "2       9487  \n",
       "3       9638  \n",
       "4       6607  "
      ]
     },
     "execution_count": 84,
     "metadata": {},
     "output_type": "execute_result"
    }
   ],
   "source": [
    "south_df.head()"
   ]
  },
  {
   "cell_type": "markdown",
   "metadata": {},
   "source": [
    "### Number of schools and Pupils (2016 and 2017)- South"
   ]
  },
  {
   "cell_type": "code",
   "execution_count": 85,
   "metadata": {},
   "outputs": [
    {
     "data": {
      "text/plain": [
       "(747529, 737613, 1725, 1827)"
      ]
     },
     "execution_count": 85,
     "metadata": {},
     "output_type": "execute_result"
    }
   ],
   "source": [
    "south_pupils_17 = south_df['pupils_17'].sum()\n",
    "south_pupils_16 = south_df['pupils_2016'].sum()\n",
    "south_schools_16 = south_df['schools_16'].sum()\n",
    "south_schools_17 = south_df['schools_17'].sum()\n",
    "south_pupils_17, south_pupils_16, south_schools_16, south_schools_17"
   ]
  },
  {
   "cell_type": "markdown",
   "metadata": {},
   "source": [
    "### Number of Schools and pupils (2016 and 2017) - North Province"
   ]
  },
  {
   "cell_type": "code",
   "execution_count": 86,
   "metadata": {},
   "outputs": [
    {
     "data": {
      "text/plain": [
       "(557736, 556927, 1420, 1453)"
      ]
     },
     "execution_count": 86,
     "metadata": {},
     "output_type": "execute_result"
    }
   ],
   "source": [
    "north_pupils_17 = north_df['pupils_17'].sum()\n",
    "north_pupils_16 = north_df['pupils_2016'].sum()\n",
    "north_schools_16 = north_df['schools_16'].sum()\n",
    "north_schools_17 = north_df['schools_17'].sum()\n",
    "north_pupils_17, north_pupils_16, north_schools_16, north_schools_17"
   ]
  },
  {
   "cell_type": "markdown",
   "metadata": {},
   "source": [
    "### Number of Schools and Pupils (2016 and 2017)- East Province"
   ]
  },
  {
   "cell_type": "code",
   "execution_count": 87,
   "metadata": {},
   "outputs": [
    {
     "data": {
      "text/plain": [
       "(788404, 841930, 1673, 1751)"
      ]
     },
     "execution_count": 87,
     "metadata": {},
     "output_type": "execute_result"
    }
   ],
   "source": [
    "east_pupils_17 = east_df['pupils_17'].sum()\n",
    "east_pupils_16 = east_df['pupils_2016'].sum()\n",
    "east_schools_16 = east_df['schools_16'].sum()\n",
    "east_schools_17 = east_df['schools_17'].sum()\n",
    "east_pupils_17, east_pupils_16, east_schools_16, east_schools_17"
   ]
  },
  {
   "cell_type": "markdown",
   "metadata": {},
   "source": [
    "### Number of Schools and Pupils (2016 and 2017) - West Province"
   ]
  },
  {
   "cell_type": "code",
   "execution_count": 88,
   "metadata": {},
   "outputs": [
    {
     "data": {
      "text/plain": [
       "(823300, 795776, 1853, 1843)"
      ]
     },
     "execution_count": 88,
     "metadata": {},
     "output_type": "execute_result"
    }
   ],
   "source": [
    "west_pupils_17 = west_df['pupils_17'].sum()\n",
    "west_pupils_16 = west_df['pupils_2016'].sum()\n",
    "west_schools_16 = west_df['schools_16'].sum()\n",
    "west_schools_17 = west_df['schools_17'].sum()\n",
    "west_pupils_17, west_pupils_16, west_schools_16, west_schools_17"
   ]
  },
  {
   "cell_type": "markdown",
   "metadata": {},
   "source": [
    "### Numbers of Schools and Pupils (2016 and 2017) - Kigali City"
   ]
  },
  {
   "cell_type": "code",
   "execution_count": 89,
   "metadata": {},
   "outputs": [
    {
     "data": {
      "text/plain": [
       "(823300, 795776, 1853, 1843)"
      ]
     },
     "execution_count": 89,
     "metadata": {},
     "output_type": "execute_result"
    }
   ],
   "source": [
    "kigali_pupils_17 = west_df['pupils_17'].sum()\n",
    "west_pupils_16 = west_df['pupils_2016'].sum()\n",
    "west_schools_16 = west_df['schools_16'].sum()\n",
    "west_schools_17 = west_df['schools_17'].sum()\n",
    "west_pupils_17, west_pupils_16, west_schools_16, west_schools_17"
   ]
  },
  {
   "cell_type": "code",
   "execution_count": 90,
   "metadata": {},
   "outputs": [
    {
     "data": {
      "text/html": [
       "<div>\n",
       "<style scoped>\n",
       "    .dataframe tbody tr th:only-of-type {\n",
       "        vertical-align: middle;\n",
       "    }\n",
       "\n",
       "    .dataframe tbody tr th {\n",
       "        vertical-align: top;\n",
       "    }\n",
       "\n",
       "    .dataframe thead th {\n",
       "        text-align: right;\n",
       "    }\n",
       "</style>\n",
       "<table border=\"1\" class=\"dataframe\">\n",
       "  <thead>\n",
       "    <tr style=\"text-align: right;\">\n",
       "      <th></th>\n",
       "      <th>N</th>\n",
       "      <th>level</th>\n",
       "      <th>district</th>\n",
       "      <th>province</th>\n",
       "      <th>schools_16</th>\n",
       "      <th>pupils_2016</th>\n",
       "      <th>schools_17</th>\n",
       "      <th>pupils_17</th>\n",
       "    </tr>\n",
       "  </thead>\n",
       "  <tbody>\n",
       "    <tr>\n",
       "      <th>0</th>\n",
       "      <td>1</td>\n",
       "      <td>Nursery</td>\n",
       "      <td>Gisagara</td>\n",
       "      <td>south</td>\n",
       "      <td>32</td>\n",
       "      <td>2358</td>\n",
       "      <td>41</td>\n",
       "      <td>3358</td>\n",
       "    </tr>\n",
       "    <tr>\n",
       "      <th>1</th>\n",
       "      <td>2</td>\n",
       "      <td>Nursery</td>\n",
       "      <td>Huye</td>\n",
       "      <td>south</td>\n",
       "      <td>101</td>\n",
       "      <td>6067</td>\n",
       "      <td>92</td>\n",
       "      <td>7333</td>\n",
       "    </tr>\n",
       "    <tr>\n",
       "      <th>2</th>\n",
       "      <td>3</td>\n",
       "      <td>Nursery</td>\n",
       "      <td>Kamonyi</td>\n",
       "      <td>south</td>\n",
       "      <td>75</td>\n",
       "      <td>5389</td>\n",
       "      <td>118</td>\n",
       "      <td>9487</td>\n",
       "    </tr>\n",
       "    <tr>\n",
       "      <th>3</th>\n",
       "      <td>4</td>\n",
       "      <td>Nursery</td>\n",
       "      <td>Muhanga</td>\n",
       "      <td>south</td>\n",
       "      <td>114</td>\n",
       "      <td>7009</td>\n",
       "      <td>139</td>\n",
       "      <td>9638</td>\n",
       "    </tr>\n",
       "    <tr>\n",
       "      <th>4</th>\n",
       "      <td>5</td>\n",
       "      <td>Nursery</td>\n",
       "      <td>Nyamagabe</td>\n",
       "      <td>south</td>\n",
       "      <td>78</td>\n",
       "      <td>5975</td>\n",
       "      <td>87</td>\n",
       "      <td>6607</td>\n",
       "    </tr>\n",
       "    <tr>\n",
       "      <th>5</th>\n",
       "      <td>6</td>\n",
       "      <td>Nursery</td>\n",
       "      <td>Nyanza</td>\n",
       "      <td>south</td>\n",
       "      <td>85</td>\n",
       "      <td>7533</td>\n",
       "      <td>86</td>\n",
       "      <td>7169</td>\n",
       "    </tr>\n",
       "    <tr>\n",
       "      <th>6</th>\n",
       "      <td>7</td>\n",
       "      <td>Nursery</td>\n",
       "      <td>Nyaruguru</td>\n",
       "      <td>south</td>\n",
       "      <td>46</td>\n",
       "      <td>2951</td>\n",
       "      <td>58</td>\n",
       "      <td>4002</td>\n",
       "    </tr>\n",
       "    <tr>\n",
       "      <th>7</th>\n",
       "      <td>8</td>\n",
       "      <td>Nursery</td>\n",
       "      <td>Ruhango</td>\n",
       "      <td>south</td>\n",
       "      <td>74</td>\n",
       "      <td>4253</td>\n",
       "      <td>76</td>\n",
       "      <td>4976</td>\n",
       "    </tr>\n",
       "  </tbody>\n",
       "</table>\n",
       "</div>"
      ],
      "text/plain": [
       "   N    level   district province  schools_16  pupils_2016  schools_17  \\\n",
       "0  1  Nursery   Gisagara    south          32         2358          41   \n",
       "1  2  Nursery       Huye    south         101         6067          92   \n",
       "2  3  Nursery    Kamonyi    south          75         5389         118   \n",
       "3  4  Nursery    Muhanga    south         114         7009         139   \n",
       "4  5  Nursery  Nyamagabe    south          78         5975          87   \n",
       "5  6  Nursery     Nyanza    south          85         7533          86   \n",
       "6  7  Nursery  Nyaruguru    south          46         2951          58   \n",
       "7  8  Nursery    Ruhango    south          74         4253          76   \n",
       "\n",
       "   pupils_17  \n",
       "0       3358  \n",
       "1       7333  \n",
       "2       9487  \n",
       "3       9638  \n",
       "4       6607  \n",
       "5       7169  \n",
       "6       4002  \n",
       "7       4976  "
      ]
     },
     "execution_count": 90,
     "metadata": {},
     "output_type": "execute_result"
    }
   ],
   "source": [
    "south_nursery_df = south_df.query('level==\"Nursery\"')\n",
    "south_nursery_df   "
   ]
  },
  {
   "cell_type": "markdown",
   "metadata": {},
   "source": [
    "### Numbers of Schools by Provinces"
   ]
  },
  {
   "cell_type": "code",
   "execution_count": 91,
   "metadata": {},
   "outputs": [
    {
     "name": "stdout",
     "output_type": "stream",
     "text": [
      "    Rank                NOC  Gold  Silver  Bronze  Total\n",
      "0      1             Norway    14      14      11     39\n",
      "1      2            Germany    14      10       7     31\n",
      "2      3             Canada    11       8      10     29\n",
      "3      4      United States     9       8       6     23\n",
      "4      5        Netherlands     8       6       6     20\n",
      "5      6             Sweden     7       6       1     14\n",
      "6      7  Republic of Korea     5       8       4     17\n",
      "7      8        Switzerland     5       6       4     15\n",
      "8      9             France     5       4       6     15\n",
      "9     10            Austria     5       3       6     14\n",
      "10    11              Japan     4       5       4     13\n",
      "11    12              Italy     3       2       5     10\n",
      "12    13                OAR     2       6       9     17\n",
      "13    14     Czech Republic     2       2       3      7\n",
      "14    15            Belarus     2       1       0      3\n",
      "15    16              China     1       6       2      9\n",
      "16    17           Slovakia     1       2       0      3\n",
      "17    18            Finland     1       1       4      6\n",
      "18    19      Great Britain     1       0       4      5\n",
      "19    20             Poland     1       0       1      2\n",
      "20    21            Hungary     1       0       0      1\n",
      "21    21            Ukraine     1       0       0      1\n",
      "22    23          Australia     0       2       1      3\n",
      "23    24           Slovenia     0       1       1      2\n",
      "24    25            Belgium     0       1       0      1\n",
      "25    26              Spain     0       0       2      2\n",
      "26    26        New Zealand     0       0       2      2\n",
      "27    28         Kazakhstan     0       0       1      1\n",
      "28    28             Latvia     0       0       1      1\n",
      "29    28      Liechtenstein     0       0       1      1\n"
     ]
    },
    {
     "data": {
      "text/plain": [
       "'temp-plot.html'"
      ]
     },
     "execution_count": 91,
     "metadata": {},
     "output_type": "execute_result"
    }
   ],
   "source": [
    "import plotly.offline as pyo\n",
    "import plotly.graph_objs as go\n",
    "\n",
    "df= pd.read_csv('2018WinterOlympics.csv')\n",
    "\n",
    "print(df)\n",
    "\n",
    "trace1 = go.Bar(x=df['NOC'], y=df['Gold'],\n",
    "                name='Gold', marker={'color': '#FFD700'})\n",
    "\n",
    "trace2 = go.Bar(x=df['NOC'], y=df['Silver'],\n",
    "                name='Silver', marker={'color': '#9EA0A1'})\n",
    "\n",
    "trace3 = go.Bar(x=df['NOC'], y=df['Bronze'],\n",
    "                name='Bronze', marker={'color': '#CD7F32'})\n",
    "\n",
    "data = [trace1, trace2, trace3]\n",
    "\n",
    "layout = go.Layout(title='Medals', barmode='stack')\n",
    "fig=go.Figure(data=data, layout=layout)\n",
    "pyo.plot(fig)"
   ]
  },
  {
   "cell_type": "code",
   "execution_count": 94,
   "metadata": {},
   "outputs": [
    {
     "data": {
      "text/plain": [
       "'temp-plot.html'"
      ]
     },
     "execution_count": 94,
     "metadata": {},
     "output_type": "execute_result"
    }
   ],
   "source": [
    "import plotly.offline as pyo\n",
    "import plotly.graph_objs as go\n",
    "\n",
    "\n",
    "west_pupils_17, west_pupils_16, west_schools_16, west_schools_17\n",
    "east_pupils_17, east_pupils_16, east_schools_16, east_schools_17\n",
    "north_pupils_17, north_pupils_16, north_schools_16, north_schools_17\n",
    "south_pupils_17, south_pupils_16, south_schools_16, south_schools_17\n",
    "\n",
    "y = [south_schools_17, north_schools_17, east_schools_17, west_schools_17, kigali_df['schools_17'].sum()]\n",
    "\n",
    "x = [\"south\", \"North\", \"East\", \"west\", \"Kigali\"]\n",
    "\n",
    "trace1 = go.Bar(x= x, y= y,\n",
    "                name='Gold', marker={'color': '#FFD700'})\n",
    "\n",
    "data = [trace1]\n",
    "\n",
    "layout = go.Layout(title='Numbers of Schools By Provinces (2016)', barmode='stack')\n",
    "fig=go.Figure(data=data, layout=layout)\n",
    "pyo.plot(fig)"
   ]
  },
  {
   "cell_type": "code",
   "execution_count": null,
   "metadata": {},
   "outputs": [],
   "source": []
  },
  {
   "cell_type": "code",
   "execution_count": null,
   "metadata": {},
   "outputs": [],
   "source": []
  },
  {
   "cell_type": "code",
   "execution_count": null,
   "metadata": {},
   "outputs": [],
   "source": []
  }
 ],
 "metadata": {
  "kernelspec": {
   "display_name": "Python 3",
   "language": "python",
   "name": "python3"
  },
  "language_info": {
   "codemirror_mode": {
    "name": "ipython",
    "version": 3
   },
   "file_extension": ".py",
   "mimetype": "text/x-python",
   "name": "python",
   "nbconvert_exporter": "python",
   "pygments_lexer": "ipython3",
   "version": "3.7.3"
  }
 },
 "nbformat": 4,
 "nbformat_minor": 2
}
